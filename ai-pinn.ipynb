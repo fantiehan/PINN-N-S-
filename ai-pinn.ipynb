{
 "cells": [
  {
   "cell_type": "code",
   "execution_count": 2,
   "metadata": {
    "execution": {
     "iopub.execute_input": "2021-12-20T08:18:29.858694Z",
     "iopub.status.busy": "2021-12-20T08:18:29.858373Z",
     "iopub.status.idle": "2021-12-20T08:18:34.606374Z",
     "shell.execute_reply": "2021-12-20T08:18:34.605653Z",
     "shell.execute_reply.started": "2021-12-20T08:18:29.858660Z"
    }
   },
   "outputs": [],
   "source": [
    "import tensorflow as tf\n",
    "from tensorflow.keras import Model,Sequential\n",
    "from tensorflow.keras.layers import Dense\n",
    "from tensorflow.keras.layers import Flatten\n",
    "from tensorflow.keras.layers import Dropout\n",
    "import numpy as np\n",
    "import matplotlib.pyplot as plt\n",
    "import scipy.io\n",
    "from scipy.interpolate import griddata\n",
    "import time\n",
    "from itertools import product, combinations\n",
    "from mpl_toolkits.mplot3d import Axes3D\n",
    "from mpl_toolkits.mplot3d.art3d import Poly3DCollection\n",
    "from mpl_toolkits.axes_grid1 import make_axes_locatable\n",
    "import matplotlib.gridspec as gridspec\n",
    "\n",
    "np.random.seed(1234)\n",
    "tf.random.set_seed(1234)\n",
    "layer=[3,32,32,32,32,32,2]"
   ]
  },
  {
   "cell_type": "code",
   "execution_count": 3,
   "metadata": {
    "execution": {
     "iopub.execute_input": "2021-12-20T08:18:34.607929Z",
     "iopub.status.busy": "2021-12-20T08:18:34.607693Z",
     "iopub.status.idle": "2021-12-20T08:18:37.014825Z",
     "shell.execute_reply": "2021-12-20T08:18:37.014071Z",
     "shell.execute_reply.started": "2021-12-20T08:18:34.607898Z"
    }
   },
   "outputs": [],
   "source": [
    "class PINN(Model):\n",
    "    def __init__(self):\n",
    "        super(PINN,self).__init__()\n",
    "        self.lambda_1=tf.Variable([0.0],dtype=tf.float64,name=\"lambda_1\",trainable=True)\n",
    "        self.lambda_2=tf.Variable([0.0],dtype=tf.float64,name=\"lambda_2\",trainable=True)\n",
    "        \n",
    "        self.model=Sequential()\n",
    "        self.model.add(Flatten(input_shape=(3,1)))\n",
    "        self.model.add(Dense(layer[0],activation='tanh',name=\"tDense_0\"))\n",
    "    \n",
    "        for i in range(1,len(layer)-1):\n",
    "            self.model.add(Dense(layer[i],activation='tanh',name=\"Dense_{}\".format(i)))\n",
    "        self.model.add(Dense(layer[-1],name='Dense_end'))\n",
    "        \n",
    "        self.optimizer=tf.optimizers.Adam(lr=1e-3)\n",
    "        \n",
    "    def call(self,X):\n",
    "        return self.model.call(X)\n",
    "    \n",
    "    def predict(self,x,y,t):\n",
    "        lambda_1=self.lambda_1\n",
    "        lambda_2=self.lambda_2\n",
    "        \n",
    "        x=tf.Variable(x,name=\"temp_x\",dtype=tf.float64)\n",
    "        y=tf.Variable(y,name=\"temp_y\",dtype=tf.float64)\n",
    "        t=tf.Variable(t,name=\"temp_t\",dtype=tf.float64)\n",
    "        with tf.GradientTape(persistent=True) as Tape3:\n",
    "            with tf.GradientTape(persistent=True) as Tape2:\n",
    "                with tf.GradientTape(persistent=True) as Tape1:\n",
    "                    X=tf.concat([x,y,t],1)\n",
    "                    psi_and_p=self.call(X)\n",
    "                    psi=psi_and_p[:,0:1]\n",
    "                    p=psi_and_p[:,1:2]\n",
    "        \n",
    "                u=Tape1.gradient(psi,x)\n",
    "                v=-Tape1.gradient(psi,y)\n",
    "    \n",
    "                p_x=Tape1.gradient(p,x)\n",
    "                p_y=Tape1.gradient(p,y)\n",
    "            \n",
    "            u_t=Tape2.gradient(u,t)\n",
    "            u_x=Tape2.gradient(u,x)\n",
    "            u_y=Tape2.gradient(u,y)\n",
    "\n",
    "            v_t=Tape2.gradient(v,t)\n",
    "            v_x=Tape2.gradient(v,x)\n",
    "            v_y=Tape2.gradient(v,y)\n",
    "\n",
    "        u_xx=Tape3.gradient(u_x,x)\n",
    "        u_yy=Tape3.gradient(u_y,y)\n",
    "\n",
    "        v_xx=Tape3.gradient(v_x,x)\n",
    "        v_yy=Tape3.gradient(v_y,y)\n",
    "    \n",
    "    \n",
    "        del Tape1\n",
    "        del Tape2\n",
    "        del Tape3\n",
    "        \n",
    "      #  print(u_t.dtype,lambda_1.dtype,u_y.dtype,lambda_2.dtype,u_xx.dtype,u_yy.dtype)\n",
    "\n",
    "        f_u=u_t+lambda_1*(u*u_x+v*u_y)+p_x-lambda_2*(u_xx+u_yy) \n",
    "        f_v=v_t+lambda_1*(u*v_x+v*v_y)+p_y-lambda_2*(v_xx+v_yy)\n",
    "        \n",
    "        p=tf.cast(p,dtype=tf.float64)\n",
    "        return u,v,p,f_u,f_v\n",
    "    \n",
    "    def BC(self,u,v,u_real,v_real):\n",
    "        \n",
    "        return tf.reduce_mean(tf.square(u-u_real)+tf.square(v-v_real)) \n",
    "    \n",
    "    def PDE(self,f_u,f_v):\n",
    "        return tf.reduce_mean(tf.square(f_u)+tf.square(f_v))\n",
    "    \n",
    "    def loss_function(self,u,v,u_real,v_real,f_u,f_v):\n",
    "        return self.BC(u,v,u_real,v_real)+self.PDE(f_u,f_v)\n",
    "    \n",
    "    def run_optimizer(self,x,y,t,u_real,v_real):\n",
    "        optimizer=self.optimizer\n",
    "        with tf.GradientTape() as Tape:\n",
    "            u,v,p,f_u,f_v=self.predict(x,y,t)\n",
    "            loss=self.loss_function(u,v,u_real,v_real,f_u,f_v)\n",
    "        \n",
    "        trainable_variables=self.trainable_variables\n",
    "        gradients=Tape.gradient(loss,trainable_variables)\n",
    "        optimizer.apply_gradients(zip(gradients,trainable_variables))\n",
    "        \n",
    "    def error(self,u,v,p,u_real,v_real,p_real):       \n",
    "#        print(u.dtype,v.dtype,p.dtype,u_real.dtype,v_real.dtype,p_real.dtype)\n",
    "        \n",
    "        e_u=tf.reduce_mean(tf.square(u-u_real))\n",
    "        e_v=tf.reduce_mean(tf.square(v-v_real))\n",
    "        e_p=tf.reduce_mean(tf.square(p-p_real))\n",
    "        return e_u,e_v,e_p\n",
    "    \n",
    "pinn=PINN()"
   ]
  },
  {
   "cell_type": "code",
   "execution_count": 4,
   "metadata": {
    "execution": {
     "iopub.execute_input": "2021-12-20T08:18:37.017460Z",
     "iopub.status.busy": "2021-12-20T08:18:37.016681Z",
     "iopub.status.idle": "2021-12-20T08:18:37.022147Z",
     "shell.execute_reply": "2021-12-20T08:18:37.021347Z",
     "shell.execute_reply.started": "2021-12-20T08:18:37.017418Z"
    }
   },
   "outputs": [],
   "source": [
    "#初始化变量\n",
    "N_train=5000\n",
    "training_steps=500\n",
    "batch_size=32\n",
    "display_step=10"
   ]
  },
  {
   "cell_type": "code",
   "execution_count": 5,
   "metadata": {
    "execution": {
     "iopub.execute_input": "2021-12-20T08:18:37.023948Z",
     "iopub.status.busy": "2021-12-20T08:18:37.023676Z",
     "iopub.status.idle": "2021-12-20T08:18:38.026684Z",
     "shell.execute_reply": "2021-12-20T08:18:38.025928Z",
     "shell.execute_reply.started": "2021-12-20T08:18:37.023911Z"
    }
   },
   "outputs": [],
   "source": [
    "#导入数据\n",
    "data=scipy.io.loadmat('../input/naiverstokes/cylinder_nektar_wake.mat')\n",
    "U_star=data['U_star']\n",
    "P_star=data['p_star']\n",
    "t_star=data['t']\n",
    "X_star=data['X_star']\n",
    "    \n",
    "N=X_star.shape[0]\n",
    "T=t_star.shape[0]\n",
    "    \n",
    "XX=np.tile(X_star[:,0:1],(1,T))\n",
    "YY=np.tile(X_star[:,1:2],(1,T))\n",
    "TT=np.tile(t_star, (1,N)).T\n",
    "    \n",
    "UU=U_star[:,0,:]\n",
    "VV=U_star[:,1,:]\n",
    "PP=P_star\n",
    "    \n",
    "x=XX.flatten()[:,None]\n",
    "y=YY.flatten()[:,None]\n",
    "t=TT.flatten()[:,None]\n",
    "    \n",
    "u=UU.flatten()[:,None]\n",
    "v=VV.flatten()[:,None]\n",
    "p=PP.flatten()[:,None]"
   ]
  },
  {
   "cell_type": "code",
   "execution_count": 6,
   "metadata": {
    "execution": {
     "iopub.execute_input": "2021-12-20T08:18:38.029031Z",
     "iopub.status.busy": "2021-12-20T08:18:38.028640Z",
     "iopub.status.idle": "2021-12-20T08:18:38.059539Z",
     "shell.execute_reply": "2021-12-20T08:18:38.058908Z",
     "shell.execute_reply.started": "2021-12-20T08:18:38.028994Z"
    }
   },
   "outputs": [],
   "source": [
    "#测试数据部分\n",
    "idx=np.random.choice(N*T,N_train,replace=False)\n",
    "x_train=x[idx,:]\n",
    "y_train=y[idx,:]\n",
    "t_train=t[idx,:]\n",
    "u_train=u[idx,:]\n",
    "v_train=v[idx,:]\n",
    "p_train=p[idx,:]\n",
    "\n",
    "snap=np.array([100])\n",
    "x_star=X_star[:,0:1]\n",
    "y_star=X_star[:,1:2]\n",
    "t_star=TT[:,snap]\n",
    "    \n",
    "u_star=U_star[:,0,snap]\n",
    "v_star=U_star[:,1,snap]\n",
    "p_star=P_star[:,snap]\n",
    "\n",
    "losschange=[]\n",
    "e_uchange=[]\n",
    "e_vchange=[]\n",
    "e_pchange=[]"
   ]
  },
  {
   "cell_type": "code",
   "execution_count": 7,
   "metadata": {
    "execution": {
     "iopub.execute_input": "2021-12-20T08:18:38.061075Z",
     "iopub.status.busy": "2021-12-20T08:18:38.060832Z",
     "iopub.status.idle": "2021-12-20T08:18:38.090106Z",
     "shell.execute_reply": "2021-12-20T08:18:38.089482Z",
     "shell.execute_reply.started": "2021-12-20T08:18:38.061042Z"
    }
   },
   "outputs": [],
   "source": [
    "train_data=tf.data.Dataset.from_tensor_slices((x_train,y_train,t_train,u_train,v_train,p_train))\n",
    "train_data=train_data.repeat().shuffle(5000).batch(batch_size).prefetch(1)"
   ]
  },
  {
   "cell_type": "code",
   "execution_count": 10,
   "metadata": {
    "execution": {
     "iopub.execute_input": "2021-12-20T08:20:18.733111Z",
     "iopub.status.busy": "2021-12-20T08:20:18.729201Z",
     "iopub.status.idle": "2021-12-20T08:22:11.121566Z",
     "shell.execute_reply": "2021-12-20T08:22:11.120635Z",
     "shell.execute_reply.started": "2021-12-20T08:20:18.733072Z"
    }
   },
   "outputs": [],
   "source": [
    "#训练\n",
    "for step,(batch_x,batch_y,batch_t,batch_u,batch_v,batch_p) in enumerate(train_data.take(training_steps),1):\n",
    "    u,v,p,f_u,f_v=pinn.predict(batch_x,batch_y,batch_t)\n",
    "    loss=pinn.loss_function(u,v,batch_u,batch_v,f_u,f_v)\n",
    "    e_u,e_v,e_p=pinn.error(u,v,p,batch_u,batch_v,batch_p)\n",
    "        \n",
    "    losschange.append(loss)\n",
    "    e_uchange.append(e_u)\n",
    "    e_vchange.append(e_v)\n",
    "    e_pchange.append(e_p)\n",
    "    \n",
    "    pinn.run_optimizer(batch_x,batch_y,batch_t,batch_u,batch_v)\n",
    "    if step%display_step==0:\n",
    "        print(\"step: %i, loss: %f，error:u:%f v:%f p:%f\" %(step,loss,e_u,e_v,e_p))"
   ]
  },
  {
   "cell_type": "code",
   "execution_count": 11,
   "metadata": {
    "execution": {
     "iopub.execute_input": "2021-12-20T08:22:11.124974Z",
     "iopub.status.busy": "2021-12-20T08:22:11.123134Z",
     "iopub.status.idle": "2021-12-20T08:22:11.133153Z",
     "shell.execute_reply": "2021-12-20T08:22:11.131961Z",
     "shell.execute_reply.started": "2021-12-20T08:22:11.124932Z"
    }
   },
   "outputs": [],
   "source": [
    "#查看lambda\n",
    "tf.print(pinn.lambda_1,pinn.lambda_2)"
   ]
  },
  {
   "cell_type": "code",
   "execution_count": 12,
   "metadata": {
    "execution": {
     "iopub.execute_input": "2021-12-20T08:22:11.134354Z",
     "iopub.status.busy": "2021-12-20T08:22:11.134129Z",
     "iopub.status.idle": "2021-12-20T08:22:11.217050Z",
     "shell.execute_reply": "2021-12-20T08:22:11.216360Z",
     "shell.execute_reply.started": "2021-12-20T08:22:11.134329Z"
    }
   },
   "outputs": [],
   "source": [
    "u_pred,v_pred,p_pred,f_u,f_v=pinn.predict(x_star,y_star,t_star)\n",
    "e_u,e_v,e_p=pinn.error(u_pred,v_pred,p_pred,u_star,v_star,p_star)"
   ]
  },
  {
   "cell_type": "code",
   "execution_count": 13,
   "metadata": {
    "execution": {
     "iopub.execute_input": "2021-12-20T08:22:11.219221Z",
     "iopub.status.busy": "2021-12-20T08:22:11.218973Z",
     "iopub.status.idle": "2021-12-20T08:22:11.227787Z",
     "shell.execute_reply": "2021-12-20T08:22:11.226947Z",
     "shell.execute_reply.started": "2021-12-20T08:22:11.219187Z"
    }
   },
   "outputs": [],
   "source": [
    "e_u,e_v,e_p"
   ]
  },
  {
   "cell_type": "code",
   "execution_count": 14,
   "metadata": {
    "execution": {
     "iopub.execute_input": "2021-12-20T08:22:11.229623Z",
     "iopub.status.busy": "2021-12-20T08:22:11.229312Z",
     "iopub.status.idle": "2021-12-20T08:22:11.263567Z",
     "shell.execute_reply": "2021-12-20T08:22:11.262967Z",
     "shell.execute_reply.started": "2021-12-20T08:22:11.229572Z"
    }
   },
   "outputs": [],
   "source": [
    "X=np.linspace(0,training_steps,np.array(losschange).shape[0])"
   ]
  },
  {
   "cell_type": "code",
   "execution_count": 15,
   "metadata": {
    "execution": {
     "iopub.execute_input": "2021-12-20T08:22:11.264912Z",
     "iopub.status.busy": "2021-12-20T08:22:11.264690Z",
     "iopub.status.idle": "2021-12-20T08:22:11.274965Z",
     "shell.execute_reply": "2021-12-20T08:22:11.274009Z",
     "shell.execute_reply.started": "2021-12-20T08:22:11.264882Z"
    }
   },
   "outputs": [],
   "source": [
    "np.array(losschange).shape[0]"
   ]
  },
  {
   "cell_type": "code",
   "execution_count": 16,
   "metadata": {
    "execution": {
     "iopub.execute_input": "2021-12-20T08:22:11.277018Z",
     "iopub.status.busy": "2021-12-20T08:22:11.276296Z",
     "iopub.status.idle": "2021-12-20T08:22:11.287395Z",
     "shell.execute_reply": "2021-12-20T08:22:11.286662Z",
     "shell.execute_reply.started": "2021-12-20T08:22:11.276983Z"
    }
   },
   "outputs": [],
   "source": [
    "np.array(losschange).shape[0]"
   ]
  },
  {
   "cell_type": "code",
   "execution_count": 17,
   "metadata": {
    "execution": {
     "iopub.execute_input": "2021-12-20T08:22:11.289888Z",
     "iopub.status.busy": "2021-12-20T08:22:11.289194Z",
     "iopub.status.idle": "2021-12-20T08:22:11.702263Z",
     "shell.execute_reply": "2021-12-20T08:22:11.701652Z",
     "shell.execute_reply.started": "2021-12-20T08:22:11.289855Z"
    }
   },
   "outputs": [],
   "source": [
    "plt.figure(dpi=240,figsize=(6,4))\n",
    "plt.plot(X,losschange,color='skyblue',ls='-.',label='loss')\n",
    "plt.plot(X,e_uchange,color='green', label='u')\n",
    "plt.plot(X,e_vchange,color='red', label='v')\n",
    "plt.plot(X,e_pchange,color='black', label='p')\n",
    "plt.legend()\n",
    " \n",
    "plt.xlabel('step')\n",
    "plt.ylabel('error/loss')\n",
    "plt.show()\n",
    "plt.savefig('PINN_NS.jpg')"
   ]
  },
  {
   "cell_type": "code",
   "execution_count": null,
   "metadata": {},
   "outputs": [],
   "source": []
  },
  {
   "cell_type": "code",
   "execution_count": null,
   "metadata": {},
   "outputs": [],
   "source": []
  }
 ],
 "metadata": {
  "kernelspec": {
   "display_name": "Python 3 (ipykernel)",
   "language": "python",
   "name": "python3"
  },
  "language_info": {
   "codemirror_mode": {
    "name": "ipython",
    "version": 3
   },
   "file_extension": ".py",
   "mimetype": "text/x-python",
   "name": "python",
   "nbconvert_exporter": "python",
   "pygments_lexer": "ipython3",
   "version": "3.8.12"
  }
 },
 "nbformat": 4,
 "nbformat_minor": 4
}
